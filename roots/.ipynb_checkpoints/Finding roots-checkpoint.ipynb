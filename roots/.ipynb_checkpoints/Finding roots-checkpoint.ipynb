{
 "cells": [
  {
   "cell_type": "markdown",
   "id": "17b3fca4-25c9-4cb1-ad72-cc7845cab57a",
   "metadata": {},
   "source": [
    "## Finding roots of functions"
   ]
  },
  {
   "cell_type": "markdown",
   "id": "ea0b2ee1-b503-40fb-9b1e-bc2479c17fc4",
   "metadata": {},
   "source": [
    "Let $f:X \\rightarrow \\mathbb{R}$ be a function, we are interested in finding the root of $f$ in an interval $[a, b]$"
   ]
  },
  {
   "cell_type": "markdown",
   "id": "d3a04a32-b759-48e4-9aca-c57c86a58f85",
   "metadata": {},
   "source": [
    "### Importing libraries"
   ]
  },
  {
   "cell_type": "code",
   "execution_count": 1,
   "id": "6f7842f3-66ea-4a2a-b832-b7a4c00a6b6c",
   "metadata": {},
   "outputs": [],
   "source": [
    "import numpy as np\n",
    "import matplotlib as mpl\n",
    "import matplotlib.pyplot as plt\n",
    "plt.rcParams['text.usetex'] = True\n",
    "plt.style.use(\"science\")\n",
    "import math"
   ]
  },
  {
   "cell_type": "markdown",
   "id": "a2266958-477a-4703-b365-9edbb1e3c2d0",
   "metadata": {},
   "source": [
    "### Function with a root"
   ]
  },
  {
   "cell_type": "code",
   "execution_count": 2,
   "id": "4167142b-1923-460a-8012-b3deb516c377",
   "metadata": {},
   "outputs": [],
   "source": [
    "def func(x):\n",
    "    return x ** 2 - 4 * x + 1"
   ]
  },
  {
   "cell_type": "code",
   "execution_count": 3,
   "id": "e98380df-5967-4c60-b267-f815c73d3e8b",
   "metadata": {},
   "outputs": [],
   "source": [
    "def dfunc(x):\n",
    "    return 2 * x - 4"
   ]
  },
  {
   "cell_type": "code",
   "execution_count": 4,
   "id": "090deca9-3f87-424c-b8c5-4f72435490a6",
   "metadata": {},
   "outputs": [],
   "source": [
    "xs = np.linspace(-4, 2, 100)\n",
    "fxs = [func(x) for x in xs]"
   ]
  },
  {
   "cell_type": "code",
   "execution_count": 5,
   "id": "ceba9e19-b7bc-4390-bd12-c3c5b385055f",
   "metadata": {},
   "outputs": [
    {
     "data": {
      "image/png": "[encoded data removed]",
      "text/plain": [
       "<Figure size 350x262.5 with 1 Axes>"
      ]
     },
     "metadata": {},
     "output_type": "display_data"
    }
   ],
   "source": [
    "plt.plot(xs, fxs, color = \"grey\")\n",
    "plt.show()"
   ]
  },
  {
   "cell_type": "markdown",
   "id": "2111def3-7219-42d4-b6d8-5b9ce8cc3046",
   "metadata": {},
   "source": [
    "### Bisection method"
   ]
  },
  {
   "cell_type": "markdown",
   "id": "006bb16d-d38f-44f3-bd52-f3392d609922",
   "metadata": {},
   "source": [
    "The bisection method is an iterrative binary search method:\n",
    "\n",
    "1. calculate the midpoint of the interval $c = (a + b)/ 2$\n",
    "2. calculate $f(c)$\n",
    "3. If convergence return c\n",
    "4. search in $[a, c]$ or $[c, b]$ depending on the sign of $f(c)$"
   ]
  },
  {
   "cell_type": "code",
   "execution_count": 6,
   "id": "da460ea5-e279-4d5e-86c0-bf124a9c6ed0",
   "metadata": {},
   "outputs": [],
   "source": [
    "def bisection_method(fn, a, b, itermax = 1000, eps = 1e-3):\n",
    "    assert(fn(a) * fn(b) < 0)\n",
    "    hist = []\n",
    "    for epoch in range(itermax):\n",
    "        # calculate the midpoint of the interval\n",
    "        c = (a + b) / 2.\n",
    "        hist += [c]\n",
    "        # calculate f(c)\n",
    "        fc = fn(c)\n",
    "        # Check for convergence\n",
    "        if abs(fc) < eps:\n",
    "            print(\"Convergence at epoch {}\".format(epoch))\n",
    "            return (c, hist)\n",
    "        # search in [a, c] or [c, b]\n",
    "        if fc * fn(a) < 0:\n",
    "            b = c\n",
    "        else:\n",
    "            a = c\n",
    "    return c, hist"
   ]
  },
  {
   "cell_type": "code",
   "execution_count": 7,
   "id": "d78c44db-21ed-42dd-88cf-d1d90c4f36f5",
   "metadata": {},
   "outputs": [
    {
     "name": "stdout",
     "output_type": "stream",
     "text": [
      "Convergence at epoch 12\n"
     ]
    }
   ],
   "source": [
    "res = bisection_method(func, -4, 2)"
   ]
  },
  {
   "cell_type": "code",
   "execution_count": 8,
   "id": "6a8489d0-3231-4a09-a670-50863ac0f3e5",
   "metadata": {},
   "outputs": [
    {
     "name": "stdout",
     "output_type": "stream",
     "text": [
      "The root of func is 0.27\n"
     ]
    }
   ],
   "source": [
    "print(\"The root of func is {:.2}\".format(res[0]))"
   ]
  },
  {
   "cell_type": "code",
   "execution_count": 9,
   "id": "5297812d-6758-42ad-ba00-fb963889b41a",
   "metadata": {},
   "outputs": [
    {
     "data": {
      "image/png": "[encoded data removed]",
      "text/plain": [
       "<Figure size 350x262.5 with 1 Axes>"
      ]
     },
     "metadata": {},
     "output_type": "display_data"
    }
   ],
   "source": [
    "plt.plot(xs, fxs, color = \"grey\")\n",
    "plt.plot(res[1], [func(x) for x in res[1]], color = \"blue\")\n",
    "plt.show()"
   ]
  },
  {
   "cell_type": "markdown",
   "id": "068cb41b-19e0-4795-93d3-db9fa7b0c108",
   "metadata": {},
   "source": [
    "### False position method"
   ]
  },
  {
   "cell_type": "markdown",
   "id": "99360de6-abde-4cf3-9800-58b7788885a3",
   "metadata": {},
   "source": [
    "1. Calculate $c = \\dfrac{af(b) - bf(a)}{f(b) - f(a)}$\n",
    "2. Calculate f(c)\n",
    "3. If convergence, return c\n",
    "4. Else search in $[a, c]$ or $[a, b]$ depending on the sign of $f(c)$"
   ]
  },
  {
   "cell_type": "code",
   "execution_count": 10,
   "id": "9d3d0b7f-ee7f-4519-a984-34b0755ecad1",
   "metadata": {},
   "outputs": [],
   "source": [
    "def false_point_method(fn, a, b, itermax = 1000, eps = 1e-3):\n",
    "    assert(fn(a) * fn(b) < 0)\n",
    "    hist = []\n",
    "    for epoch in range(itermax):\n",
    "        fa = fn(a)\n",
    "        fb = fn(b)\n",
    "        c = (a * fb - b * fa) / (fb - fa + 1e-5)\n",
    "        hist += [c]\n",
    "        fc = fn(c)\n",
    "        # Check for convergence\n",
    "        if abs(fc) < eps:\n",
    "            print(\"Convergence at epoch {}\".format(epoch))\n",
    "            return c, hist\n",
    "        if fa * fc < 0:\n",
    "            b = c\n",
    "        else:\n",
    "            a = c\n",
    "    return c, hist"
   ]
  },
  {
   "cell_type": "code",
   "execution_count": 11,
   "id": "ac7915f8-91b3-419d-990a-8172066d8aa5",
   "metadata": {},
   "outputs": [
    {
     "name": "stdout",
     "output_type": "stream",
     "text": [
      "Convergence at epoch 15\n"
     ]
    }
   ],
   "source": [
    "res = false_point_method(func, -4, 2)"
   ]
  },
  {
   "cell_type": "code",
   "execution_count": 12,
   "id": "c4806cfe-665b-4405-b7e2-6fb515da9611",
   "metadata": {},
   "outputs": [
    {
     "name": "stdout",
     "output_type": "stream",
     "text": [
      "The root of func is 0.27\n"
     ]
    }
   ],
   "source": [
    "print(\"The root of func is {:.2}\".format(res[0]))"
   ]
  },
  {
   "cell_type": "code",
   "execution_count": 13,
   "id": "331cc4e6-0884-4be0-95e6-34863a4a869e",
   "metadata": {},
   "outputs": [
    {
     "data": {
      "image/png": "[encoded data removed]",
      "text/plain": [
       "<Figure size 350x262.5 with 1 Axes>"
      ]
     },
     "metadata": {},
     "output_type": "display_data"
    }
   ],
   "source": [
    "plt.plot(xs, fxs, color = \"grey\")\n",
    "plt.plot(res[1], [func(x) for x in res[1]], color = \"blue\")\n",
    "plt.show()"
   ]
  },
  {
   "cell_type": "markdown",
   "id": "2f235316-ade3-4a97-91f7-79ac8a0f3c29",
   "metadata": {},
   "source": [
    "### Newton-Raphson method"
   ]
  },
  {
   "cell_type": "markdown",
   "id": "081273a0-dd27-46ea-a031-58bdbdc701ce",
   "metadata": {},
   "source": [
    "1. Choose a random value for $x_0$\n",
    "2. Calculate $x_{n + 1} = x_n - \\dfrac{f(x_n)}{f'(x_n)}$\n",
    "3. If convergence, return $x_{n+1}$"
   ]
  },
  {
   "cell_type": "code",
   "execution_count": 14,
   "id": "7c4053c7-31ee-4ff4-a523-7dff79618dac",
   "metadata": {},
   "outputs": [],
   "source": [
    "def newton_raphson_method(fn, dfn, itermax = 1000, eps = 1e-5):\n",
    "    x = np.random.rand()\n",
    "    hist = [x]\n",
    "    for epoch in range(itermax):\n",
    "        x = x - fn(x) / (dfn(x) + 1e-6)\n",
    "        hist += [x]\n",
    "        # Check for convergence\n",
    "        if abs(fn(x)) < eps:\n",
    "            print(\"Convergence at epoch {}\".format(epoch))\n",
    "            return x, hist\n",
    "    return c, hist"
   ]
  },
  {
   "cell_type": "code",
   "execution_count": 15,
   "id": "e2d868b7-026c-4f6e-bdc0-de35b2d7d8aa",
   "metadata": {},
   "outputs": [
    {
     "name": "stdout",
     "output_type": "stream",
     "text": [
      "Convergence at epoch 1\n"
     ]
    }
   ],
   "source": [
    "res = newton_raphson_method(func, dfunc)"
   ]
  },
  {
   "cell_type": "code",
   "execution_count": 16,
   "id": "262d3f1f-54f8-4693-8111-f5a97d077f86",
   "metadata": {},
   "outputs": [
    {
     "name": "stdout",
     "output_type": "stream",
     "text": [
      "The root of func is 0.27\n"
     ]
    }
   ],
   "source": [
    "print(\"The root of func is {:.2}\".format(res[0]))"
   ]
  },
  {
   "cell_type": "code",
   "execution_count": 17,
   "id": "dec5f063-b985-4be5-beaa-ac5e8373ad64",
   "metadata": {},
   "outputs": [
    {
     "data": {
      "image/png": "[encoded data removed]",
      "text/plain": [
       "<Figure size 350x262.5 with 1 Axes>"
      ]
     },
     "metadata": {},
     "output_type": "display_data"
    }
   ],
   "source": [
    "plt.plot(xs, fxs, color = \"grey\")\n",
    "plt.plot(res[1], [func(x) for x in res[1]], color = \"blue\")\n",
    "plt.show()"
   ]
  },
  {
   "cell_type": "markdown",
   "id": "627b1e61-b0a4-445d-9aff-50db0d3cc8ba",
   "metadata": {},
   "source": [
    "### Secant method"
   ]
  },
  {
   "cell_type": "markdown",
   "id": "f6e8d023-4ba5-4d5e-9bb5-0802b88d4e46",
   "metadata": {},
   "source": [
    "1. Choose a random value for $x_0$ and $x_1$\n",
    "2. Calculate $x_{n + 1} = x_n - f(x_n)\\dfrac{x_n - x_{n-1}}{f(x_n) - f(x_{n-1})}$\n",
    "3. If convergence, return $x_{n+1}$"
   ]
  },
  {
   "cell_type": "code",
   "execution_count": 18,
   "id": "03f96b78-0e0b-4558-a3f4-923fa595ee8f",
   "metadata": {},
   "outputs": [],
   "source": [
    "def newton_raphson_method(fn, a, b, itermax = 1000, eps = 1e-5):\n",
    "    x0 = a\n",
    "    x1 = b\n",
    "    hist = []\n",
    "    for epoch in range(itermax):\n",
    "        xn = x1 - fn(x1) * (x1 - x0)/ (fn(x1) - fn(x0) + 1e-6)\n",
    "        hist += [xn]\n",
    "        # Check for convergence\n",
    "        if abs(fn(xn)) < eps:\n",
    "            print(\"Convergence at epoch {}\".format(epoch))\n",
    "            return xn, hist\n",
    "        x0 = x1\n",
    "        x1 = xn\n",
    "    return xn, hist"
   ]
  },
  {
   "cell_type": "code",
   "execution_count": 19,
   "id": "c5b0b01c-4990-4295-ae69-c706f48823c2",
   "metadata": {},
   "outputs": [
    {
     "name": "stdout",
     "output_type": "stream",
     "text": [
      "Convergence at epoch 8\n"
     ]
    }
   ],
   "source": [
    "res = newton_raphson_method(func, -4, 2)"
   ]
  },
  {
   "cell_type": "code",
   "execution_count": 20,
   "id": "53be4b31-6b30-42c2-82da-57b9879de7f5",
   "metadata": {},
   "outputs": [
    {
     "name": "stdout",
     "output_type": "stream",
     "text": [
      "The root of func is 0.27\n"
     ]
    }
   ],
   "source": [
    "print(\"The root of func is {:.2}\".format(res[0]))"
   ]
  },
  {
   "cell_type": "code",
   "execution_count": 21,
   "id": "220db57b-f30e-4580-afe6-9c39a2afe744",
   "metadata": {},
   "outputs": [
    {
     "data": {
      "image/png": "[encoded data removed]",
      "text/plain": [
       "<Figure size 350x262.5 with 1 Axes>"
      ]
     },
     "metadata": {},
     "output_type": "display_data"
    }
   ],
   "source": [
    "plt.plot(xs, fxs, color = \"grey\")\n",
    "plt.plot(res[1], [func(x) for x in res[1]], color = \"blue\")\n",
    "plt.show()"
   ]
  },
  {
   "cell_type": "markdown",
   "id": "bd8ab29b-409e-443f-8442-affe9a9daf8d",
   "metadata": {},
   "source": [
    "### scipy"
   ]
  },
  {
   "cell_type": "code",
   "execution_count": 22,
   "id": "dcba2471-3cbe-4c30-8f87-1ebe4026b730",
   "metadata": {},
   "outputs": [],
   "source": [
    "from scipy.optimize import newton, bisect"
   ]
  },
  {
   "cell_type": "code",
   "execution_count": 23,
   "id": "ce150947-50bc-4411-93d1-f97f68aeab24",
   "metadata": {},
   "outputs": [
    {
     "name": "stdout",
     "output_type": "stream",
     "text": [
      "The root of func is 0.27\n"
     ]
    }
   ],
   "source": [
    "print(\"The root of func is {:.2}\".format(bisect(func, -4, 2)))"
   ]
  },
  {
   "cell_type": "code",
   "execution_count": 24,
   "id": "92e80b69-01fe-4647-a523-4935f388cb04",
   "metadata": {},
   "outputs": [
    {
     "name": "stdout",
     "output_type": "stream",
     "text": [
      "The root of func is 0.27\n"
     ]
    }
   ],
   "source": [
    "print(\"The root of func is {:.2}\".format(newton(func, 0, dfunc)))"
   ]
  },
  {
   "cell_type": "code",
   "execution_count": null,
   "id": "9e0695df-ba7c-4e36-93cf-61cbe2e25e43",
   "metadata": {},
   "outputs": [],
   "source": []
  }
 ],
 "metadata": {
  "kernelspec": {
   "display_name": "Python 3 (ipykernel)",
   "language": "python",
   "name": "python3"
  },
  "language_info": {
   "codemirror_mode": {
    "name": "ipython",
    "version": 3
   },
   "file_extension": ".py",
   "mimetype": "text/x-python",
   "name": "python",
   "nbconvert_exporter": "python",
   "pygments_lexer": "ipython3",
   "version": "3.11.5"
  }
 },
 "nbformat": 4,
 "nbformat_minor": 5
}
